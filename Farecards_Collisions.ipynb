{
 "cells": [
  {
   "cell_type": "markdown",
   "metadata": {},
   "source": [
    "# Comparing Station Ridership with Nearby Motor Vehicle Collisions"
   ]
  },
  {
   "cell_type": "code",
   "execution_count": 41,
   "metadata": {},
   "outputs": [],
   "source": [
    "import pandas as pd\n",
    "import numpy as np\n",
    "from haversine import haversine\n",
    "from scipy.cluster.hierarchy import fclusterdata\n",
    "from scipy import spatial, stats\n",
    "from tqdm import tqdm\n",
    "from ast import literal_eval\n",
    "import datetime\n",
    "import matplotlib\n",
    "import matplotlib.pyplot as plt\n",
    "import seaborn as sns"
   ]
  },
  {
   "cell_type": "markdown",
   "metadata": {},
   "source": [
    "Our database of station names with coordinates, compiled earlier. Several of the stations were manually marked as having incorrect coordinates (based on bad name matching of the two datasets), so we'll use only stations with the correct coordinates."
   ]
  },
  {
   "cell_type": "code",
   "execution_count": 3,
   "metadata": {},
   "outputs": [
    {
     "data": {
      "text/html": [
       "<div>\n",
       "<style scoped>\n",
       "    .dataframe tbody tr th:only-of-type {\n",
       "        vertical-align: middle;\n",
       "    }\n",
       "\n",
       "    .dataframe tbody tr th {\n",
       "        vertical-align: top;\n",
       "    }\n",
       "\n",
       "    .dataframe thead th {\n",
       "        text-align: right;\n",
       "    }\n",
       "</style>\n",
       "<table border=\"1\" class=\"dataframe\">\n",
       "  <thead>\n",
       "    <tr style=\"text-align: right;\">\n",
       "      <th></th>\n",
       "      <th>Remote</th>\n",
       "      <th>Station</th>\n",
       "      <th>Line Name</th>\n",
       "      <th>Processed Name from Farecard Database</th>\n",
       "      <th>Processed Name from Stations Database</th>\n",
       "      <th>IsCorrect</th>\n",
       "      <th>Latitude</th>\n",
       "      <th>Longitude</th>\n",
       "    </tr>\n",
       "  </thead>\n",
       "  <tbody>\n",
       "    <tr>\n",
       "      <th>0</th>\n",
       "      <td>R001</td>\n",
       "      <td>WHITEHALL STREET</td>\n",
       "      <td>R1</td>\n",
       "      <td>WHITEHALL STREET R_TRAIN 1_TRAIN</td>\n",
       "      <td>Whitehall St R_TRAIN W_TRAIN</td>\n",
       "      <td>1</td>\n",
       "      <td>40.703087</td>\n",
       "      <td>-74.012994</td>\n",
       "    </tr>\n",
       "    <tr>\n",
       "      <th>1</th>\n",
       "      <td>R003</td>\n",
       "      <td>CYPRESS HILLS</td>\n",
       "      <td>J</td>\n",
       "      <td>CYPRESS HILLS J_TRAIN</td>\n",
       "      <td>Cypress Hills J_TRAIN</td>\n",
       "      <td>1</td>\n",
       "      <td>40.689941</td>\n",
       "      <td>-73.872550</td>\n",
       "    </tr>\n",
       "    <tr>\n",
       "      <th>2</th>\n",
       "      <td>R004</td>\n",
       "      <td>75TH STREET &amp; ELDERTS LANE</td>\n",
       "      <td>JZ</td>\n",
       "      <td>75 TH STREET &amp; ELDERTS LANE J_TRAIN Z_TRAIN</td>\n",
       "      <td>75  St J_TRAIN Z_TRAIN</td>\n",
       "      <td>1</td>\n",
       "      <td>40.691324</td>\n",
       "      <td>-73.867139</td>\n",
       "    </tr>\n",
       "    <tr>\n",
       "      <th>3</th>\n",
       "      <td>R005</td>\n",
       "      <td>85TH STREET &amp; FOREST PKWAY</td>\n",
       "      <td>J</td>\n",
       "      <td>85 TH STREET &amp; FOREST PKWAY J_TRAIN</td>\n",
       "      <td>85  St   Forest Pkwy J_TRAIN</td>\n",
       "      <td>1</td>\n",
       "      <td>40.692435</td>\n",
       "      <td>-73.860010</td>\n",
       "    </tr>\n",
       "    <tr>\n",
       "      <th>4</th>\n",
       "      <td>R006</td>\n",
       "      <td>WOODHAVEN BOULEVARD</td>\n",
       "      <td>JZ</td>\n",
       "      <td>WOODHAVEN BOULEVARD J_TRAIN Z_TRAIN</td>\n",
       "      <td>Woodhaven Blvd J_TRAIN Z_TRAIN</td>\n",
       "      <td>1</td>\n",
       "      <td>40.693879</td>\n",
       "      <td>-73.851576</td>\n",
       "    </tr>\n",
       "  </tbody>\n",
       "</table>\n",
       "</div>"
      ],
      "text/plain": [
       "  Remote                     Station Line Name  \\\n",
       "0   R001            WHITEHALL STREET        R1   \n",
       "1   R003               CYPRESS HILLS         J   \n",
       "2   R004  75TH STREET & ELDERTS LANE        JZ   \n",
       "3   R005  85TH STREET & FOREST PKWAY         J   \n",
       "4   R006         WOODHAVEN BOULEVARD        JZ   \n",
       "\n",
       "         Processed Name from Farecard Database  \\\n",
       "0             WHITEHALL STREET R_TRAIN 1_TRAIN   \n",
       "1                        CYPRESS HILLS J_TRAIN   \n",
       "2  75 TH STREET & ELDERTS LANE J_TRAIN Z_TRAIN   \n",
       "3          85 TH STREET & FOREST PKWAY J_TRAIN   \n",
       "4          WOODHAVEN BOULEVARD J_TRAIN Z_TRAIN   \n",
       "\n",
       "  Processed Name from Stations Database  IsCorrect   Latitude  Longitude  \n",
       "0          Whitehall St R_TRAIN W_TRAIN          1  40.703087 -74.012994  \n",
       "1                 Cypress Hills J_TRAIN          1  40.689941 -73.872550  \n",
       "2                75  St J_TRAIN Z_TRAIN          1  40.691324 -73.867139  \n",
       "3          85  St   Forest Pkwy J_TRAIN          1  40.692435 -73.860010  \n",
       "4        Woodhaven Blvd J_TRAIN Z_TRAIN          1  40.693879 -73.851576  "
      ]
     },
     "execution_count": 3,
     "metadata": {},
     "output_type": "execute_result"
    }
   ],
   "source": [
    "sc = pd.read_csv('Station_Coords_Map.csv')\n",
    "sc.head()"
   ]
  },
  {
   "cell_type": "code",
   "execution_count": 4,
   "metadata": {},
   "outputs": [
    {
     "data": {
      "text/plain": [
       "-1    482\n",
       " 1    428\n",
       " 0     98\n",
       "Name: IsCorrect, dtype: int64"
      ]
     },
     "execution_count": 4,
     "metadata": {},
     "output_type": "execute_result"
    }
   ],
   "source": [
    "# 1: Found correct address from fuzzy string matching\n",
    "# 0: Found incorrect address\n",
    "# -1: Haven't verified address yet\n",
    "sc.IsCorrect.value_counts()"
   ]
  },
  {
   "cell_type": "code",
   "execution_count": 5,
   "metadata": {},
   "outputs": [
    {
     "data": {
      "text/html": [
       "<div>\n",
       "<style scoped>\n",
       "    .dataframe tbody tr th:only-of-type {\n",
       "        vertical-align: middle;\n",
       "    }\n",
       "\n",
       "    .dataframe tbody tr th {\n",
       "        vertical-align: top;\n",
       "    }\n",
       "\n",
       "    .dataframe thead th {\n",
       "        text-align: right;\n",
       "    }\n",
       "</style>\n",
       "<table border=\"1\" class=\"dataframe\">\n",
       "  <thead>\n",
       "    <tr style=\"text-align: right;\">\n",
       "      <th></th>\n",
       "      <th>Station</th>\n",
       "      <th>Line Name</th>\n",
       "      <th>Processed Name from Farecard Database</th>\n",
       "      <th>Processed Name from Stations Database</th>\n",
       "      <th>IsCorrect</th>\n",
       "      <th>Latitude</th>\n",
       "      <th>Longitude</th>\n",
       "    </tr>\n",
       "    <tr>\n",
       "      <th>Remote</th>\n",
       "      <th></th>\n",
       "      <th></th>\n",
       "      <th></th>\n",
       "      <th></th>\n",
       "      <th></th>\n",
       "      <th></th>\n",
       "      <th></th>\n",
       "    </tr>\n",
       "  </thead>\n",
       "  <tbody>\n",
       "    <tr>\n",
       "      <th>R001</th>\n",
       "      <td>WHITEHALL STREET</td>\n",
       "      <td>R1</td>\n",
       "      <td>WHITEHALL STREET R_TRAIN 1_TRAIN</td>\n",
       "      <td>Whitehall St R_TRAIN W_TRAIN</td>\n",
       "      <td>1</td>\n",
       "      <td>40.703087</td>\n",
       "      <td>-74.012994</td>\n",
       "    </tr>\n",
       "    <tr>\n",
       "      <th>R002</th>\n",
       "      <td>FULTON ST &amp; BROADWAY NASSAU</td>\n",
       "      <td>ACJZ2345</td>\n",
       "      <td>FULTON ST &amp; BROADWAY NASSAU    A_TRAIN C_TRAIN...</td>\n",
       "      <td>Fulton St J_TRAIN Z_TRAIN</td>\n",
       "      <td>1</td>\n",
       "      <td>40.710374</td>\n",
       "      <td>-74.007582</td>\n",
       "    </tr>\n",
       "    <tr>\n",
       "      <th>R003</th>\n",
       "      <td>CYPRESS HILLS</td>\n",
       "      <td>J</td>\n",
       "      <td>CYPRESS HILLS J_TRAIN</td>\n",
       "      <td>Cypress Hills J_TRAIN</td>\n",
       "      <td>1</td>\n",
       "      <td>40.689941</td>\n",
       "      <td>-73.872550</td>\n",
       "    </tr>\n",
       "    <tr>\n",
       "      <th>R004</th>\n",
       "      <td>75TH STREET &amp; ELDERTS LANE</td>\n",
       "      <td>JZ</td>\n",
       "      <td>75 TH STREET &amp; ELDERTS LANE J_TRAIN Z_TRAIN</td>\n",
       "      <td>75  St J_TRAIN Z_TRAIN</td>\n",
       "      <td>1</td>\n",
       "      <td>40.691324</td>\n",
       "      <td>-73.867139</td>\n",
       "    </tr>\n",
       "    <tr>\n",
       "      <th>R005</th>\n",
       "      <td>85TH STREET &amp; FOREST PKWAY</td>\n",
       "      <td>J</td>\n",
       "      <td>85 TH STREET &amp; FOREST PKWAY J_TRAIN</td>\n",
       "      <td>85  St   Forest Pkwy J_TRAIN</td>\n",
       "      <td>1</td>\n",
       "      <td>40.692435</td>\n",
       "      <td>-73.860010</td>\n",
       "    </tr>\n",
       "  </tbody>\n",
       "</table>\n",
       "</div>"
      ],
      "text/plain": [
       "                            Station Line Name  \\\n",
       "Remote                                          \n",
       "R001               WHITEHALL STREET        R1   \n",
       "R002    FULTON ST & BROADWAY NASSAU  ACJZ2345   \n",
       "R003                  CYPRESS HILLS         J   \n",
       "R004     75TH STREET & ELDERTS LANE        JZ   \n",
       "R005     85TH STREET & FOREST PKWAY         J   \n",
       "\n",
       "                    Processed Name from Farecard Database  \\\n",
       "Remote                                                      \n",
       "R001                     WHITEHALL STREET R_TRAIN 1_TRAIN   \n",
       "R002    FULTON ST & BROADWAY NASSAU    A_TRAIN C_TRAIN...   \n",
       "R003                                CYPRESS HILLS J_TRAIN   \n",
       "R004          75 TH STREET & ELDERTS LANE J_TRAIN Z_TRAIN   \n",
       "R005                  85 TH STREET & FOREST PKWAY J_TRAIN   \n",
       "\n",
       "       Processed Name from Stations Database  IsCorrect   Latitude  Longitude  \n",
       "Remote                                                                         \n",
       "R001            Whitehall St R_TRAIN W_TRAIN          1  40.703087 -74.012994  \n",
       "R002               Fulton St J_TRAIN Z_TRAIN          1  40.710374 -74.007582  \n",
       "R003                   Cypress Hills J_TRAIN          1  40.689941 -73.872550  \n",
       "R004                  75  St J_TRAIN Z_TRAIN          1  40.691324 -73.867139  \n",
       "R005            85  St   Forest Pkwy J_TRAIN          1  40.692435 -73.860010  "
      ]
     },
     "execution_count": 5,
     "metadata": {},
     "output_type": "execute_result"
    }
   ],
   "source": [
    "scorrect = sc[sc.IsCorrect == 1].groupby(['Remote']).first()\n",
    "scorrect.head()"
   ]
  },
  {
   "cell_type": "markdown",
   "metadata": {},
   "source": [
    "Next, cluster the stations using hierarchical clustering. We do this because intuition says that a motor vehicle collision might affect all stations near it, not just the closest one. So we first group all stations within a certain distance of each other (100m), and associate a collision with the nearest cluster."
   ]
  },
  {
   "cell_type": "code",
   "execution_count": 6,
   "metadata": {},
   "outputs": [],
   "source": [
    "clust = fclusterdata(scorrect[['Latitude', 'Longitude']], 0.1, metric=haversine)"
   ]
  },
  {
   "cell_type": "code",
   "execution_count": 7,
   "metadata": {},
   "outputs": [],
   "source": [
    "numc = np.max(clust)"
   ]
  },
  {
   "cell_type": "markdown",
   "metadata": {},
   "source": [
    "Sample cluster - these stations should be very near each other (or just separate entrances to the same station)."
   ]
  },
  {
   "cell_type": "code",
   "execution_count": 10,
   "metadata": {},
   "outputs": [
    {
     "name": "stdout",
     "output_type": "stream",
     "text": [
      "199\n"
     ]
    },
    {
     "data": {
      "text/html": [
       "<div>\n",
       "<style scoped>\n",
       "    .dataframe tbody tr th:only-of-type {\n",
       "        vertical-align: middle;\n",
       "    }\n",
       "\n",
       "    .dataframe tbody tr th {\n",
       "        vertical-align: top;\n",
       "    }\n",
       "\n",
       "    .dataframe thead th {\n",
       "        text-align: right;\n",
       "    }\n",
       "</style>\n",
       "<table border=\"1\" class=\"dataframe\">\n",
       "  <thead>\n",
       "    <tr style=\"text-align: right;\">\n",
       "      <th></th>\n",
       "      <th>Station</th>\n",
       "      <th>Line Name</th>\n",
       "      <th>Processed Name from Farecard Database</th>\n",
       "      <th>Processed Name from Stations Database</th>\n",
       "      <th>IsCorrect</th>\n",
       "      <th>Latitude</th>\n",
       "      <th>Longitude</th>\n",
       "    </tr>\n",
       "    <tr>\n",
       "      <th>Remote</th>\n",
       "      <th></th>\n",
       "      <th></th>\n",
       "      <th></th>\n",
       "      <th></th>\n",
       "      <th></th>\n",
       "      <th></th>\n",
       "      <th></th>\n",
       "    </tr>\n",
       "  </thead>\n",
       "  <tbody>\n",
       "    <tr>\n",
       "      <th>R041</th>\n",
       "      <td>BOWLING GREEN &amp; BATTERY PL</td>\n",
       "      <td>45</td>\n",
       "      <td>BOWLING GREEN &amp; BATTERY PL 4_TRAIN 5_TRAIN</td>\n",
       "      <td>Bowling Green 4_TRAIN 5_TRAIN</td>\n",
       "      <td>1</td>\n",
       "      <td>40.704817</td>\n",
       "      <td>-74.014065</td>\n",
       "    </tr>\n",
       "    <tr>\n",
       "      <th>R042</th>\n",
       "      <td>BOWLING GREEN &amp; BROADWAY</td>\n",
       "      <td>45</td>\n",
       "      <td>BOWLING GREEN &amp; BROADWAY 4_TRAIN 5_TRAIN</td>\n",
       "      <td>Bowling Green 4_TRAIN 5_TRAIN</td>\n",
       "      <td>1</td>\n",
       "      <td>40.704817</td>\n",
       "      <td>-74.014065</td>\n",
       "    </tr>\n",
       "  </tbody>\n",
       "</table>\n",
       "</div>"
      ],
      "text/plain": [
       "                           Station Line Name  \\\n",
       "Remote                                         \n",
       "R041    BOWLING GREEN & BATTERY PL        45   \n",
       "R042      BOWLING GREEN & BROADWAY        45   \n",
       "\n",
       "             Processed Name from Farecard Database  \\\n",
       "Remote                                               \n",
       "R041    BOWLING GREEN & BATTERY PL 4_TRAIN 5_TRAIN   \n",
       "R042      BOWLING GREEN & BROADWAY 4_TRAIN 5_TRAIN   \n",
       "\n",
       "       Processed Name from Stations Database  IsCorrect   Latitude  Longitude  \n",
       "Remote                                                                         \n",
       "R041           Bowling Green 4_TRAIN 5_TRAIN          1  40.704817 -74.014065  \n",
       "R042           Bowling Green 4_TRAIN 5_TRAIN          1  40.704817 -74.014065  "
      ]
     },
     "execution_count": 10,
     "metadata": {},
     "output_type": "execute_result"
    }
   ],
   "source": [
    "i = np.random.randint(numc)\n",
    "print(i)\n",
    "scorrect[clust == i]"
   ]
  },
  {
   "cell_type": "code",
   "execution_count": 11,
   "metadata": {},
   "outputs": [],
   "source": [
    "scorrect['Cluster'] = clust"
   ]
  },
  {
   "cell_type": "code",
   "execution_count": 12,
   "metadata": {},
   "outputs": [],
   "source": [
    "clusters = scorrect.groupby(['Cluster']).first()"
   ]
  },
  {
   "cell_type": "code",
   "execution_count": 13,
   "metadata": {},
   "outputs": [
    {
     "data": {
      "text/html": [
       "<div>\n",
       "<style scoped>\n",
       "    .dataframe tbody tr th:only-of-type {\n",
       "        vertical-align: middle;\n",
       "    }\n",
       "\n",
       "    .dataframe tbody tr th {\n",
       "        vertical-align: top;\n",
       "    }\n",
       "\n",
       "    .dataframe thead th {\n",
       "        text-align: right;\n",
       "    }\n",
       "</style>\n",
       "<table border=\"1\" class=\"dataframe\">\n",
       "  <thead>\n",
       "    <tr style=\"text-align: right;\">\n",
       "      <th></th>\n",
       "      <th>Station</th>\n",
       "      <th>Line Name</th>\n",
       "      <th>Processed Name from Farecard Database</th>\n",
       "      <th>Processed Name from Stations Database</th>\n",
       "      <th>IsCorrect</th>\n",
       "      <th>Latitude</th>\n",
       "      <th>Longitude</th>\n",
       "    </tr>\n",
       "    <tr>\n",
       "      <th>Cluster</th>\n",
       "      <th></th>\n",
       "      <th></th>\n",
       "      <th></th>\n",
       "      <th></th>\n",
       "      <th></th>\n",
       "      <th></th>\n",
       "      <th></th>\n",
       "    </tr>\n",
       "  </thead>\n",
       "  <tbody>\n",
       "    <tr>\n",
       "      <th>1</th>\n",
       "      <td>PLAYLAND-BEACH 98TH STREET</td>\n",
       "      <td>AS</td>\n",
       "      <td>PLAYLAND BEACH 98 TH STREET A_TRAIN S_TRAIN</td>\n",
       "      <td>Beach 98  St A_TRAIN S_TRAIN</td>\n",
       "      <td>1</td>\n",
       "      <td>40.585307</td>\n",
       "      <td>-73.820558</td>\n",
       "    </tr>\n",
       "    <tr>\n",
       "      <th>2</th>\n",
       "      <td>HOLLAND-BEACH 90TH STREET</td>\n",
       "      <td>AS</td>\n",
       "      <td>HOLLAND BEACH 90 TH STREET A_TRAIN S_TRAIN</td>\n",
       "      <td>Beach 90  St A_TRAIN S_TRAIN</td>\n",
       "      <td>1</td>\n",
       "      <td>40.588034</td>\n",
       "      <td>-73.813641</td>\n",
       "    </tr>\n",
       "    <tr>\n",
       "      <th>3</th>\n",
       "      <td>ROCKAWAY PARK-BEACH 116TH</td>\n",
       "      <td>AS</td>\n",
       "      <td>ROCKAWAY PARK BEACH 116 TH A_TRAIN S_TRAIN</td>\n",
       "      <td>Rockaway Park   Beach 116  St A_TRAIN S_TRAIN</td>\n",
       "      <td>1</td>\n",
       "      <td>40.580903</td>\n",
       "      <td>-73.835592</td>\n",
       "    </tr>\n",
       "    <tr>\n",
       "      <th>4</th>\n",
       "      <td>GASTON AVENUE-BEACH 67TH ST</td>\n",
       "      <td>A</td>\n",
       "      <td>GASTON Av BEACH 67 TH ST A_TRAIN</td>\n",
       "      <td>Beach 67  St A_TRAIN</td>\n",
       "      <td>1</td>\n",
       "      <td>40.590927</td>\n",
       "      <td>-73.796924</td>\n",
       "    </tr>\n",
       "    <tr>\n",
       "      <th>5</th>\n",
       "      <td>MOTT AVENUE-BEACH 22ND ST</td>\n",
       "      <td>A</td>\n",
       "      <td>MOTT Av BEACH 22 ND ST A_TRAIN</td>\n",
       "      <td>Far Rockaway   Mott Av A_TRAIN</td>\n",
       "      <td>1</td>\n",
       "      <td>40.603995</td>\n",
       "      <td>-73.755405</td>\n",
       "    </tr>\n",
       "  </tbody>\n",
       "</table>\n",
       "</div>"
      ],
      "text/plain": [
       "                             Station Line Name  \\\n",
       "Cluster                                          \n",
       "1         PLAYLAND-BEACH 98TH STREET        AS   \n",
       "2          HOLLAND-BEACH 90TH STREET        AS   \n",
       "3          ROCKAWAY PARK-BEACH 116TH        AS   \n",
       "4        GASTON AVENUE-BEACH 67TH ST         A   \n",
       "5          MOTT AVENUE-BEACH 22ND ST         A   \n",
       "\n",
       "               Processed Name from Farecard Database  \\\n",
       "Cluster                                                \n",
       "1        PLAYLAND BEACH 98 TH STREET A_TRAIN S_TRAIN   \n",
       "2         HOLLAND BEACH 90 TH STREET A_TRAIN S_TRAIN   \n",
       "3         ROCKAWAY PARK BEACH 116 TH A_TRAIN S_TRAIN   \n",
       "4                   GASTON Av BEACH 67 TH ST A_TRAIN   \n",
       "5                     MOTT Av BEACH 22 ND ST A_TRAIN   \n",
       "\n",
       "                 Processed Name from Stations Database  IsCorrect   Latitude  \\\n",
       "Cluster                                                                        \n",
       "1                         Beach 98  St A_TRAIN S_TRAIN          1  40.585307   \n",
       "2                         Beach 90  St A_TRAIN S_TRAIN          1  40.588034   \n",
       "3        Rockaway Park   Beach 116  St A_TRAIN S_TRAIN          1  40.580903   \n",
       "4                                 Beach 67  St A_TRAIN          1  40.590927   \n",
       "5                       Far Rockaway   Mott Av A_TRAIN          1  40.603995   \n",
       "\n",
       "         Longitude  \n",
       "Cluster             \n",
       "1       -73.820558  \n",
       "2       -73.813641  \n",
       "3       -73.835592  \n",
       "4       -73.796924  \n",
       "5       -73.755405  "
      ]
     },
     "execution_count": 13,
     "metadata": {},
     "output_type": "execute_result"
    }
   ],
   "source": [
    "clusters.head()"
   ]
  },
  {
   "cell_type": "markdown",
   "metadata": {},
   "source": [
    "Now, we'll load the moter vehicle collisions and use a KD-Tree of cluster locations to quickly map each motor vehicle collision to its nearest cluster."
   ]
  },
  {
   "cell_type": "code",
   "execution_count": 14,
   "metadata": {},
   "outputs": [],
   "source": [
    "tree = spatial.KDTree(clusters[['Latitude', 'Longitude']])"
   ]
  },
  {
   "cell_type": "code",
   "execution_count": 15,
   "metadata": {},
   "outputs": [
    {
     "name": "stderr",
     "output_type": "stream",
     "text": [
      "/anaconda3/lib/python3.7/site-packages/IPython/core/interactiveshell.py:3020: DtypeWarning: Columns (3) have mixed types. Specify dtype option on import or set low_memory=False.\n",
      "  interactivity=interactivity, compiler=compiler, result=result)\n"
     ]
    },
    {
     "data": {
      "text/html": [
       "<div>\n",
       "<style scoped>\n",
       "    .dataframe tbody tr th:only-of-type {\n",
       "        vertical-align: middle;\n",
       "    }\n",
       "\n",
       "    .dataframe tbody tr th {\n",
       "        vertical-align: top;\n",
       "    }\n",
       "\n",
       "    .dataframe thead th {\n",
       "        text-align: right;\n",
       "    }\n",
       "</style>\n",
       "<table border=\"1\" class=\"dataframe\">\n",
       "  <thead>\n",
       "    <tr style=\"text-align: right;\">\n",
       "      <th></th>\n",
       "      <th>date</th>\n",
       "      <th>location</th>\n",
       "    </tr>\n",
       "  </thead>\n",
       "  <tbody>\n",
       "    <tr>\n",
       "      <th>0</th>\n",
       "      <td>2019-01-29T00:00:00</td>\n",
       "      <td>(40.774994, -73.93428)</td>\n",
       "    </tr>\n",
       "    <tr>\n",
       "      <th>1</th>\n",
       "      <td>2019-01-29T00:00:00</td>\n",
       "      <td>(40.843136, -73.91097)</td>\n",
       "    </tr>\n",
       "    <tr>\n",
       "      <th>2</th>\n",
       "      <td>2019-01-29T00:00:00</td>\n",
       "      <td>(40.719784, -73.78283)</td>\n",
       "    </tr>\n",
       "    <tr>\n",
       "      <th>3</th>\n",
       "      <td>2019-01-29T00:00:00</td>\n",
       "      <td>(40.70725, -73.958466)</td>\n",
       "    </tr>\n",
       "    <tr>\n",
       "      <th>4</th>\n",
       "      <td>2019-01-29T00:00:00</td>\n",
       "      <td>(40.61504, -74.06685)</td>\n",
       "    </tr>\n",
       "  </tbody>\n",
       "</table>\n",
       "</div>"
      ],
      "text/plain": [
       "                  date                location\n",
       "0  2019-01-29T00:00:00  (40.774994, -73.93428)\n",
       "1  2019-01-29T00:00:00  (40.843136, -73.91097)\n",
       "2  2019-01-29T00:00:00  (40.719784, -73.78283)\n",
       "3  2019-01-29T00:00:00  (40.70725, -73.958466)\n",
       "4  2019-01-29T00:00:00   (40.61504, -74.06685)"
      ]
     },
     "execution_count": 15,
     "metadata": {},
     "output_type": "execute_result"
    }
   ],
   "source": [
    "collisions = pd.read_csv('collisions.csv')[['date', 'location']].dropna()\n",
    "collisions.location = collisions.location.apply(lambda x: literal_eval(x))\n",
    "collisions.head()"
   ]
  },
  {
   "cell_type": "code",
   "execution_count": 20,
   "metadata": {},
   "outputs": [],
   "source": [
    "tqdm.pandas()"
   ]
  },
  {
   "cell_type": "code",
   "execution_count": 21,
   "metadata": {},
   "outputs": [
    {
     "name": "stderr",
     "output_type": "stream",
     "text": [
      "100%|██████████| 1253065/1253065 [03:22<00:00, 6186.67it/s]\n"
     ]
    }
   ],
   "source": [
    "colcluster = collisions.location.progress_apply(lambda x: tree.query(x)[1])"
   ]
  },
  {
   "cell_type": "code",
   "execution_count": 22,
   "metadata": {},
   "outputs": [],
   "source": [
    "collisions['Cluster'] = colcluster + 1"
   ]
  },
  {
   "cell_type": "code",
   "execution_count": 24,
   "metadata": {},
   "outputs": [],
   "source": [
    "collisions['month'] = collisions.date.apply(lambda x: str(x)[5:7]).astype(int)\n",
    "collisions['year'] = collisions.date.apply(lambda x: str(x)[0:4]).astype(int)\n",
    "collisions['day'] = collisions.date.apply(lambda x: str(x)[8:10]).astype(int)"
   ]
  },
  {
   "cell_type": "code",
   "execution_count": 25,
   "metadata": {},
   "outputs": [
    {
     "data": {
      "text/html": [
       "<div>\n",
       "<style scoped>\n",
       "    .dataframe tbody tr th:only-of-type {\n",
       "        vertical-align: middle;\n",
       "    }\n",
       "\n",
       "    .dataframe tbody tr th {\n",
       "        vertical-align: top;\n",
       "    }\n",
       "\n",
       "    .dataframe thead th {\n",
       "        text-align: right;\n",
       "    }\n",
       "</style>\n",
       "<table border=\"1\" class=\"dataframe\">\n",
       "  <thead>\n",
       "    <tr style=\"text-align: right;\">\n",
       "      <th></th>\n",
       "      <th>date</th>\n",
       "      <th>location</th>\n",
       "      <th>Cluster</th>\n",
       "      <th>month</th>\n",
       "      <th>year</th>\n",
       "      <th>day</th>\n",
       "    </tr>\n",
       "  </thead>\n",
       "  <tbody>\n",
       "    <tr>\n",
       "      <th>0</th>\n",
       "      <td>2019-01-29T00:00:00</td>\n",
       "      <td>(40.774994, -73.93428)</td>\n",
       "      <td>263</td>\n",
       "      <td>1</td>\n",
       "      <td>2019</td>\n",
       "      <td>29</td>\n",
       "    </tr>\n",
       "    <tr>\n",
       "      <th>1</th>\n",
       "      <td>2019-01-29T00:00:00</td>\n",
       "      <td>(40.843136, -73.91097)</td>\n",
       "      <td>255</td>\n",
       "      <td>1</td>\n",
       "      <td>2019</td>\n",
       "      <td>29</td>\n",
       "    </tr>\n",
       "    <tr>\n",
       "      <th>2</th>\n",
       "      <td>2019-01-29T00:00:00</td>\n",
       "      <td>(40.719784, -73.78283)</td>\n",
       "      <td>138</td>\n",
       "      <td>1</td>\n",
       "      <td>2019</td>\n",
       "      <td>29</td>\n",
       "    </tr>\n",
       "    <tr>\n",
       "      <th>3</th>\n",
       "      <td>2019-01-29T00:00:00</td>\n",
       "      <td>(40.70725, -73.958466)</td>\n",
       "      <td>118</td>\n",
       "      <td>1</td>\n",
       "      <td>2019</td>\n",
       "      <td>29</td>\n",
       "    </tr>\n",
       "    <tr>\n",
       "      <th>4</th>\n",
       "      <td>2019-01-29T00:00:00</td>\n",
       "      <td>(40.61504, -74.06685)</td>\n",
       "      <td>283</td>\n",
       "      <td>1</td>\n",
       "      <td>2019</td>\n",
       "      <td>29</td>\n",
       "    </tr>\n",
       "  </tbody>\n",
       "</table>\n",
       "</div>"
      ],
      "text/plain": [
       "                  date                location  Cluster  month  year  day\n",
       "0  2019-01-29T00:00:00  (40.774994, -73.93428)      263      1  2019   29\n",
       "1  2019-01-29T00:00:00  (40.843136, -73.91097)      255      1  2019   29\n",
       "2  2019-01-29T00:00:00  (40.719784, -73.78283)      138      1  2019   29\n",
       "3  2019-01-29T00:00:00  (40.70725, -73.958466)      118      1  2019   29\n",
       "4  2019-01-29T00:00:00   (40.61504, -74.06685)      283      1  2019   29"
      ]
     },
     "execution_count": 25,
     "metadata": {},
     "output_type": "execute_result"
    }
   ],
   "source": [
    "collisions.head()"
   ]
  },
  {
   "cell_type": "markdown",
   "metadata": {},
   "source": [
    "With each collision mapped to a cluster, we just need to find the Saturday prior to each collision to group them by cluster and week (the farecard data is weekly, with each week starting on a Saturday)."
   ]
  },
  {
   "cell_type": "code",
   "execution_count": 16,
   "metadata": {},
   "outputs": [],
   "source": [
    "def lastsat(date):\n",
    "    d = datetime.date(date[0], date[1], date[2])\n",
    "    sat = d - datetime.timedelta((d.weekday() + 2) % 7)\n",
    "    return str(sat.month) + '/' + str(sat.day) + '/' + str(sat.year)"
   ]
  },
  {
   "cell_type": "code",
   "execution_count": 17,
   "metadata": {},
   "outputs": [
    {
     "data": {
      "text/plain": [
       "'8/10/2013'"
      ]
     },
     "execution_count": 17,
     "metadata": {},
     "output_type": "execute_result"
    }
   ],
   "source": [
    "lastsat((2013, 8, 13))"
   ]
  },
  {
   "cell_type": "code",
   "execution_count": 26,
   "metadata": {},
   "outputs": [],
   "source": [
    "collisions['week'] = list(map(lastsat, zip(collisions.year, collisions.month, collisions.day)))"
   ]
  },
  {
   "cell_type": "code",
   "execution_count": 27,
   "metadata": {},
   "outputs": [
    {
     "data": {
      "text/html": [
       "<div>\n",
       "<style scoped>\n",
       "    .dataframe tbody tr th:only-of-type {\n",
       "        vertical-align: middle;\n",
       "    }\n",
       "\n",
       "    .dataframe tbody tr th {\n",
       "        vertical-align: top;\n",
       "    }\n",
       "\n",
       "    .dataframe thead th {\n",
       "        text-align: right;\n",
       "    }\n",
       "</style>\n",
       "<table border=\"1\" class=\"dataframe\">\n",
       "  <thead>\n",
       "    <tr style=\"text-align: right;\">\n",
       "      <th></th>\n",
       "      <th>date</th>\n",
       "      <th>location</th>\n",
       "      <th>Cluster</th>\n",
       "      <th>month</th>\n",
       "      <th>year</th>\n",
       "      <th>day</th>\n",
       "      <th>week</th>\n",
       "    </tr>\n",
       "  </thead>\n",
       "  <tbody>\n",
       "    <tr>\n",
       "      <th>357670</th>\n",
       "      <td>2017-07-12T00:00:00</td>\n",
       "      <td>(40.905, -73.846664)</td>\n",
       "      <td>13</td>\n",
       "      <td>7</td>\n",
       "      <td>2017</td>\n",
       "      <td>12</td>\n",
       "      <td>7/8/2017</td>\n",
       "    </tr>\n",
       "    <tr>\n",
       "      <th>1218746</th>\n",
       "      <td>2013-07-29T00:00:00</td>\n",
       "      <td>(40.713926, -73.9995563)</td>\n",
       "      <td>193</td>\n",
       "      <td>7</td>\n",
       "      <td>2013</td>\n",
       "      <td>29</td>\n",
       "      <td>7/27/2013</td>\n",
       "    </tr>\n",
       "    <tr>\n",
       "      <th>652422</th>\n",
       "      <td>2016-04-04T00:00:00</td>\n",
       "      <td>(40.741077, -74.001564)</td>\n",
       "      <td>226</td>\n",
       "      <td>4</td>\n",
       "      <td>2016</td>\n",
       "      <td>4</td>\n",
       "      <td>4/2/2016</td>\n",
       "    </tr>\n",
       "    <tr>\n",
       "      <th>17824</th>\n",
       "      <td>2018-12-27T00:00:00</td>\n",
       "      <td>(40.697903, -73.9468)</td>\n",
       "      <td>119</td>\n",
       "      <td>12</td>\n",
       "      <td>2018</td>\n",
       "      <td>27</td>\n",
       "      <td>12/22/2018</td>\n",
       "    </tr>\n",
       "    <tr>\n",
       "      <th>1405772</th>\n",
       "      <td>2012-08-24T00:00:00</td>\n",
       "      <td>(40.7304639, -73.9514819)</td>\n",
       "      <td>86</td>\n",
       "      <td>8</td>\n",
       "      <td>2012</td>\n",
       "      <td>24</td>\n",
       "      <td>8/18/2012</td>\n",
       "    </tr>\n",
       "  </tbody>\n",
       "</table>\n",
       "</div>"
      ],
      "text/plain": [
       "                        date                   location  Cluster  month  year  \\\n",
       "357670   2017-07-12T00:00:00       (40.905, -73.846664)       13      7  2017   \n",
       "1218746  2013-07-29T00:00:00   (40.713926, -73.9995563)      193      7  2013   \n",
       "652422   2016-04-04T00:00:00    (40.741077, -74.001564)      226      4  2016   \n",
       "17824    2018-12-27T00:00:00      (40.697903, -73.9468)      119     12  2018   \n",
       "1405772  2012-08-24T00:00:00  (40.7304639, -73.9514819)       86      8  2012   \n",
       "\n",
       "         day        week  \n",
       "357670    12    7/8/2017  \n",
       "1218746   29   7/27/2013  \n",
       "652422     4    4/2/2016  \n",
       "17824     27  12/22/2018  \n",
       "1405772   24   8/18/2012  "
      ]
     },
     "execution_count": 27,
     "metadata": {},
     "output_type": "execute_result"
    }
   ],
   "source": [
    "collisions.sample(5)"
   ]
  },
  {
   "cell_type": "code",
   "execution_count": 28,
   "metadata": {},
   "outputs": [],
   "source": [
    "cols_wk = collisions.groupby(['Cluster', 'week'])['date'].count().reset_index().rename(columns={\"date\": \"Collisions\"})"
   ]
  },
  {
   "cell_type": "code",
   "execution_count": 29,
   "metadata": {},
   "outputs": [
    {
     "data": {
      "text/html": [
       "<div>\n",
       "<style scoped>\n",
       "    .dataframe tbody tr th:only-of-type {\n",
       "        vertical-align: middle;\n",
       "    }\n",
       "\n",
       "    .dataframe tbody tr th {\n",
       "        vertical-align: top;\n",
       "    }\n",
       "\n",
       "    .dataframe thead th {\n",
       "        text-align: right;\n",
       "    }\n",
       "</style>\n",
       "<table border=\"1\" class=\"dataframe\">\n",
       "  <thead>\n",
       "    <tr style=\"text-align: right;\">\n",
       "      <th></th>\n",
       "      <th>Cluster</th>\n",
       "      <th>week</th>\n",
       "      <th>Collisions</th>\n",
       "    </tr>\n",
       "  </thead>\n",
       "  <tbody>\n",
       "    <tr>\n",
       "      <th>0</th>\n",
       "      <td>1</td>\n",
       "      <td>1/10/15</td>\n",
       "      <td>1</td>\n",
       "    </tr>\n",
       "    <tr>\n",
       "      <th>1</th>\n",
       "      <td>1</td>\n",
       "      <td>1/11/14</td>\n",
       "      <td>3</td>\n",
       "    </tr>\n",
       "    <tr>\n",
       "      <th>2</th>\n",
       "      <td>1</td>\n",
       "      <td>1/12/13</td>\n",
       "      <td>2</td>\n",
       "    </tr>\n",
       "    <tr>\n",
       "      <th>3</th>\n",
       "      <td>1</td>\n",
       "      <td>1/12/19</td>\n",
       "      <td>1</td>\n",
       "    </tr>\n",
       "    <tr>\n",
       "      <th>4</th>\n",
       "      <td>1</td>\n",
       "      <td>1/13/18</td>\n",
       "      <td>3</td>\n",
       "    </tr>\n",
       "  </tbody>\n",
       "</table>\n",
       "</div>"
      ],
      "text/plain": [
       "   Cluster     week  Collisions\n",
       "0        1  1/10/15           1\n",
       "1        1  1/11/14           3\n",
       "2        1  1/12/13           2\n",
       "3        1  1/12/19           1\n",
       "4        1  1/13/18           3"
      ]
     },
     "execution_count": 29,
     "metadata": {},
     "output_type": "execute_result"
    }
   ],
   "source": [
    "cols_wk.week = cols_wk.week.apply(lambda x: x.replace('/201', '/1'))\n",
    "cols_wk.head()"
   ]
  },
  {
   "cell_type": "markdown",
   "metadata": {},
   "source": [
    "Let's take a cluster, find out what stations it comprises, and look at the distribution of weekly collision counts."
   ]
  },
  {
   "cell_type": "code",
   "execution_count": 30,
   "metadata": {},
   "outputs": [
    {
     "name": "stdout",
     "output_type": "stream",
     "text": [
      "54\n",
      "                Station Line Name Processed Name from Farecard Database  \\\n",
      "Remote                                                                    \n",
      "R060    EASTERN PARKWAY        23       EASTERN PARKWAY 2_TRAIN 3_TRAIN   \n",
      "\n",
      "                 Processed Name from Stations Database  IsCorrect   Latitude  \\\n",
      "Remote                                                                         \n",
      "R060    Eastern Pkwy   Brooklyn Museum 2_TRAIN 3_TRAIN          1  40.671987   \n",
      "\n",
      "        Longitude  Cluster  \n",
      "Remote                      \n",
      "R060   -73.964375       54  \n"
     ]
    },
    {
     "data": {
      "text/plain": [
       "Text(0, 0.5, 'Number of Weeks')"
      ]
     },
     "execution_count": 30,
     "metadata": {},
     "output_type": "execute_result"
    },
    {
     "data": {
      "image/png": "[encoded data removed]",
      "text/plain": [
       "<Figure size 432x288 with 1 Axes>"
      ]
     },
     "metadata": {
      "needs_background": "light"
     },
     "output_type": "display_data"
    }
   ],
   "source": [
    "i = np.random.randint(numc)\n",
    "print(i)\n",
    "print(scorrect[clust == i])\n",
    "plt.hist(cols_wk[cols_wk.Cluster == i].Collisions)\n",
    "plt.xlabel('Number of Collisions')\n",
    "plt.ylabel('Number of Weeks')"
   ]
  },
  {
   "cell_type": "markdown",
   "metadata": {},
   "source": [
    "Finally, join station collision counts with farecard usage to compare the two."
   ]
  },
  {
   "cell_type": "code",
   "execution_count": 31,
   "metadata": {},
   "outputs": [],
   "source": [
    "rem2clus = scorrect.Cluster.reset_index()"
   ]
  },
  {
   "cell_type": "code",
   "execution_count": 32,
   "metadata": {},
   "outputs": [
    {
     "data": {
      "text/html": [
       "<div>\n",
       "<style scoped>\n",
       "    .dataframe tbody tr th:only-of-type {\n",
       "        vertical-align: middle;\n",
       "    }\n",
       "\n",
       "    .dataframe tbody tr th {\n",
       "        vertical-align: top;\n",
       "    }\n",
       "\n",
       "    .dataframe thead th {\n",
       "        text-align: right;\n",
       "    }\n",
       "</style>\n",
       "<table border=\"1\" class=\"dataframe\">\n",
       "  <thead>\n",
       "    <tr style=\"text-align: right;\">\n",
       "      <th></th>\n",
       "      <th>Remote</th>\n",
       "      <th>Cluster</th>\n",
       "    </tr>\n",
       "  </thead>\n",
       "  <tbody>\n",
       "    <tr>\n",
       "      <th>0</th>\n",
       "      <td>R001</td>\n",
       "      <td>200</td>\n",
       "    </tr>\n",
       "    <tr>\n",
       "      <th>1</th>\n",
       "      <td>R002</td>\n",
       "      <td>201</td>\n",
       "    </tr>\n",
       "    <tr>\n",
       "      <th>2</th>\n",
       "      <td>R003</td>\n",
       "      <td>91</td>\n",
       "    </tr>\n",
       "    <tr>\n",
       "      <th>3</th>\n",
       "      <td>R004</td>\n",
       "      <td>91</td>\n",
       "    </tr>\n",
       "    <tr>\n",
       "      <th>4</th>\n",
       "      <td>R005</td>\n",
       "      <td>92</td>\n",
       "    </tr>\n",
       "  </tbody>\n",
       "</table>\n",
       "</div>"
      ],
      "text/plain": [
       "  Remote  Cluster\n",
       "0   R001      200\n",
       "1   R002      201\n",
       "2   R003       91\n",
       "3   R004       91\n",
       "4   R005       92"
      ]
     },
     "execution_count": 32,
     "metadata": {},
     "output_type": "execute_result"
    }
   ],
   "source": [
    "rem2clus.head()"
   ]
  },
  {
   "cell_type": "code",
   "execution_count": 33,
   "metadata": {},
   "outputs": [
    {
     "data": {
      "text/html": [
       "<div>\n",
       "<style scoped>\n",
       "    .dataframe tbody tr th:only-of-type {\n",
       "        vertical-align: middle;\n",
       "    }\n",
       "\n",
       "    .dataframe tbody tr th {\n",
       "        vertical-align: top;\n",
       "    }\n",
       "\n",
       "    .dataframe thead th {\n",
       "        text-align: right;\n",
       "    }\n",
       "</style>\n",
       "<table border=\"1\" class=\"dataframe\">\n",
       "  <thead>\n",
       "    <tr style=\"text-align: right;\">\n",
       "      <th></th>\n",
       "      <th>From_Date</th>\n",
       "      <th>To_Date</th>\n",
       "      <th>Remote_Station_ID</th>\n",
       "      <th>Station</th>\n",
       "      <th>Full_Fare</th>\n",
       "      <th>Senior_Citizen___Disabled</th>\n",
       "      <th>Seven_Day_ADA_Farecard_Access_System_Unlimited</th>\n",
       "      <th>Thirty_Day_ADA_Farecard_Access_System_Unlimited</th>\n",
       "      <th>Joint_Rail_Road_Ticket</th>\n",
       "      <th>Seven_Day_Unlimited</th>\n",
       "      <th>...</th>\n",
       "      <th>LIB_Special_Senior</th>\n",
       "      <th>Rail_Road_Unlimited_No_Trade</th>\n",
       "      <th>Transit_Check_Metrocard_Annual_Metrocard</th>\n",
       "      <th>Mail_and_Ride_EZPass_Express</th>\n",
       "      <th>Mail_and_Ride_Unlimited</th>\n",
       "      <th>Path_2_Trip</th>\n",
       "      <th>Airtran_Full_Fare</th>\n",
       "      <th>Airtran_Thirty_Day</th>\n",
       "      <th>Airtran_One0_Trip</th>\n",
       "      <th>Airtran_Monthly</th>\n",
       "    </tr>\n",
       "  </thead>\n",
       "  <tbody>\n",
       "    <tr>\n",
       "      <th>0</th>\n",
       "      <td>1/19/19</td>\n",
       "      <td>1/25/19</td>\n",
       "      <td>R001</td>\n",
       "      <td>WHITEHALL STREET</td>\n",
       "      <td>51485</td>\n",
       "      <td>2392</td>\n",
       "      <td>347</td>\n",
       "      <td>1003</td>\n",
       "      <td>219</td>\n",
       "      <td>21801</td>\n",
       "      <td>...</td>\n",
       "      <td>528</td>\n",
       "      <td>328</td>\n",
       "      <td>5448</td>\n",
       "      <td>2012</td>\n",
       "      <td>735</td>\n",
       "      <td>0</td>\n",
       "      <td>1111</td>\n",
       "      <td>0</td>\n",
       "      <td>0</td>\n",
       "      <td>0</td>\n",
       "    </tr>\n",
       "    <tr>\n",
       "      <th>1</th>\n",
       "      <td>1/19/19</td>\n",
       "      <td>1/25/19</td>\n",
       "      <td>R003</td>\n",
       "      <td>CYPRESS HILLS</td>\n",
       "      <td>2657</td>\n",
       "      <td>143</td>\n",
       "      <td>12</td>\n",
       "      <td>34</td>\n",
       "      <td>0</td>\n",
       "      <td>2134</td>\n",
       "      <td>...</td>\n",
       "      <td>79</td>\n",
       "      <td>5</td>\n",
       "      <td>94</td>\n",
       "      <td>26</td>\n",
       "      <td>27</td>\n",
       "      <td>0</td>\n",
       "      <td>21</td>\n",
       "      <td>0</td>\n",
       "      <td>0</td>\n",
       "      <td>0</td>\n",
       "    </tr>\n",
       "    <tr>\n",
       "      <th>2</th>\n",
       "      <td>1/19/19</td>\n",
       "      <td>1/25/19</td>\n",
       "      <td>R004</td>\n",
       "      <td>75TH STREET &amp; ELDERTS LANE</td>\n",
       "      <td>6390</td>\n",
       "      <td>354</td>\n",
       "      <td>57</td>\n",
       "      <td>138</td>\n",
       "      <td>2</td>\n",
       "      <td>4604</td>\n",
       "      <td>...</td>\n",
       "      <td>203</td>\n",
       "      <td>0</td>\n",
       "      <td>283</td>\n",
       "      <td>39</td>\n",
       "      <td>60</td>\n",
       "      <td>0</td>\n",
       "      <td>55</td>\n",
       "      <td>0</td>\n",
       "      <td>0</td>\n",
       "      <td>0</td>\n",
       "    </tr>\n",
       "    <tr>\n",
       "      <th>3</th>\n",
       "      <td>1/19/19</td>\n",
       "      <td>1/25/19</td>\n",
       "      <td>R005</td>\n",
       "      <td>85TH STREET &amp; FOREST PKWAY</td>\n",
       "      <td>7066</td>\n",
       "      <td>497</td>\n",
       "      <td>71</td>\n",
       "      <td>178</td>\n",
       "      <td>1</td>\n",
       "      <td>4424</td>\n",
       "      <td>...</td>\n",
       "      <td>195</td>\n",
       "      <td>5</td>\n",
       "      <td>246</td>\n",
       "      <td>57</td>\n",
       "      <td>61</td>\n",
       "      <td>0</td>\n",
       "      <td>55</td>\n",
       "      <td>0</td>\n",
       "      <td>0</td>\n",
       "      <td>0</td>\n",
       "    </tr>\n",
       "    <tr>\n",
       "      <th>4</th>\n",
       "      <td>1/19/19</td>\n",
       "      <td>1/25/19</td>\n",
       "      <td>R006</td>\n",
       "      <td>WOODHAVEN BOULEVARD</td>\n",
       "      <td>7117</td>\n",
       "      <td>450</td>\n",
       "      <td>56</td>\n",
       "      <td>167</td>\n",
       "      <td>0</td>\n",
       "      <td>6444</td>\n",
       "      <td>...</td>\n",
       "      <td>233</td>\n",
       "      <td>11</td>\n",
       "      <td>338</td>\n",
       "      <td>70</td>\n",
       "      <td>65</td>\n",
       "      <td>0</td>\n",
       "      <td>61</td>\n",
       "      <td>0</td>\n",
       "      <td>0</td>\n",
       "      <td>0</td>\n",
       "    </tr>\n",
       "  </tbody>\n",
       "</table>\n",
       "<p>5 rows × 26 columns</p>\n",
       "</div>"
      ],
      "text/plain": [
       "  From_Date  To_Date Remote_Station_ID                     Station  Full_Fare  \\\n",
       "0   1/19/19  1/25/19              R001            WHITEHALL STREET      51485   \n",
       "1   1/19/19  1/25/19              R003               CYPRESS HILLS       2657   \n",
       "2   1/19/19  1/25/19              R004  75TH STREET & ELDERTS LANE       6390   \n",
       "3   1/19/19  1/25/19              R005  85TH STREET & FOREST PKWAY       7066   \n",
       "4   1/19/19  1/25/19              R006         WOODHAVEN BOULEVARD       7117   \n",
       "\n",
       "   Senior_Citizen___Disabled  Seven_Day_ADA_Farecard_Access_System_Unlimited  \\\n",
       "0                       2392                                             347   \n",
       "1                        143                                              12   \n",
       "2                        354                                              57   \n",
       "3                        497                                              71   \n",
       "4                        450                                              56   \n",
       "\n",
       "   Thirty_Day_ADA_Farecard_Access_System_Unlimited  Joint_Rail_Road_Ticket  \\\n",
       "0                                             1003                     219   \n",
       "1                                               34                       0   \n",
       "2                                              138                       2   \n",
       "3                                              178                       1   \n",
       "4                                              167                       0   \n",
       "\n",
       "   Seven_Day_Unlimited       ...         LIB_Special_Senior  \\\n",
       "0                21801       ...                        528   \n",
       "1                 2134       ...                         79   \n",
       "2                 4604       ...                        203   \n",
       "3                 4424       ...                        195   \n",
       "4                 6444       ...                        233   \n",
       "\n",
       "   Rail_Road_Unlimited_No_Trade  Transit_Check_Metrocard_Annual_Metrocard  \\\n",
       "0                           328                                      5448   \n",
       "1                             5                                        94   \n",
       "2                             0                                       283   \n",
       "3                             5                                       246   \n",
       "4                            11                                       338   \n",
       "\n",
       "   Mail_and_Ride_EZPass_Express  Mail_and_Ride_Unlimited  Path_2_Trip  \\\n",
       "0                          2012                      735            0   \n",
       "1                            26                       27            0   \n",
       "2                            39                       60            0   \n",
       "3                            57                       61            0   \n",
       "4                            70                       65            0   \n",
       "\n",
       "   Airtran_Full_Fare  Airtran_Thirty_Day  Airtran_One0_Trip  Airtran_Monthly  \n",
       "0               1111                   0                  0                0  \n",
       "1                 21                   0                  0                0  \n",
       "2                 55                   0                  0                0  \n",
       "3                 55                   0                  0                0  \n",
       "4                 61                   0                  0                0  \n",
       "\n",
       "[5 rows x 26 columns]"
      ]
     },
     "execution_count": 33,
     "metadata": {},
     "output_type": "execute_result"
    }
   ],
   "source": [
    "farecard = pd.read_csv('MTA_FareCardUsage.csv', thousands=',')\n",
    "farecard.head()"
   ]
  },
  {
   "cell_type": "code",
   "execution_count": 34,
   "metadata": {},
   "outputs": [],
   "source": [
    "fc = farecard.merge(rem2clus, how='left', left_on='Remote_Station_ID', right_on='Remote').dropna()"
   ]
  },
  {
   "cell_type": "code",
   "execution_count": 35,
   "metadata": {},
   "outputs": [],
   "source": [
    "colms = ['Full_Fare',\n",
    "       'Senior_Citizen___Disabled',\n",
    "       'Seven_Day_ADA_Farecard_Access_System_Unlimited',\n",
    "       'Thirty_Day_ADA_Farecard_Access_System_Unlimited',\n",
    "       'Joint_Rail_Road_Ticket', 'Seven_Day_Unlimited', 'Thirty_Day_Unlimited']"
   ]
  },
  {
   "cell_type": "code",
   "execution_count": 36,
   "metadata": {},
   "outputs": [],
   "source": [
    "fc_wk = fc.groupby(['From_Date', 'Cluster'])[colms].sum()\n",
    "fc_wk = fc_wk.reset_index()\n",
    "fc_wk.Cluster = fc_wk.Cluster.astype(int)\n",
    "fc_wk = fc_wk.rename(columns={\"From_Date\": \"week\"})"
   ]
  },
  {
   "cell_type": "code",
   "execution_count": 37,
   "metadata": {},
   "outputs": [
    {
     "data": {
      "text/html": [
       "<div>\n",
       "<style scoped>\n",
       "    .dataframe tbody tr th:only-of-type {\n",
       "        vertical-align: middle;\n",
       "    }\n",
       "\n",
       "    .dataframe tbody tr th {\n",
       "        vertical-align: top;\n",
       "    }\n",
       "\n",
       "    .dataframe thead th {\n",
       "        text-align: right;\n",
       "    }\n",
       "</style>\n",
       "<table border=\"1\" class=\"dataframe\">\n",
       "  <thead>\n",
       "    <tr style=\"text-align: right;\">\n",
       "      <th></th>\n",
       "      <th>week</th>\n",
       "      <th>Cluster</th>\n",
       "      <th>Full_Fare</th>\n",
       "      <th>Senior_Citizen___Disabled</th>\n",
       "      <th>Seven_Day_ADA_Farecard_Access_System_Unlimited</th>\n",
       "      <th>Thirty_Day_ADA_Farecard_Access_System_Unlimited</th>\n",
       "      <th>Joint_Rail_Road_Ticket</th>\n",
       "      <th>Seven_Day_Unlimited</th>\n",
       "      <th>Thirty_Day_Unlimited</th>\n",
       "    </tr>\n",
       "  </thead>\n",
       "  <tbody>\n",
       "    <tr>\n",
       "      <th>0</th>\n",
       "      <td>1/1/11</td>\n",
       "      <td>1</td>\n",
       "      <td>1535</td>\n",
       "      <td>76</td>\n",
       "      <td>3</td>\n",
       "      <td>16</td>\n",
       "      <td>0</td>\n",
       "      <td>385</td>\n",
       "      <td>593</td>\n",
       "    </tr>\n",
       "    <tr>\n",
       "      <th>1</th>\n",
       "      <td>1/1/11</td>\n",
       "      <td>2</td>\n",
       "      <td>2675</td>\n",
       "      <td>129</td>\n",
       "      <td>32</td>\n",
       "      <td>43</td>\n",
       "      <td>0</td>\n",
       "      <td>705</td>\n",
       "      <td>814</td>\n",
       "    </tr>\n",
       "    <tr>\n",
       "      <th>2</th>\n",
       "      <td>1/1/11</td>\n",
       "      <td>3</td>\n",
       "      <td>2052</td>\n",
       "      <td>161</td>\n",
       "      <td>37</td>\n",
       "      <td>38</td>\n",
       "      <td>0</td>\n",
       "      <td>429</td>\n",
       "      <td>625</td>\n",
       "    </tr>\n",
       "    <tr>\n",
       "      <th>3</th>\n",
       "      <td>1/1/11</td>\n",
       "      <td>4</td>\n",
       "      <td>11094</td>\n",
       "      <td>361</td>\n",
       "      <td>40</td>\n",
       "      <td>105</td>\n",
       "      <td>2</td>\n",
       "      <td>3873</td>\n",
       "      <td>3146</td>\n",
       "    </tr>\n",
       "    <tr>\n",
       "      <th>4</th>\n",
       "      <td>1/1/11</td>\n",
       "      <td>5</td>\n",
       "      <td>14852</td>\n",
       "      <td>579</td>\n",
       "      <td>72</td>\n",
       "      <td>182</td>\n",
       "      <td>3</td>\n",
       "      <td>4296</td>\n",
       "      <td>3867</td>\n",
       "    </tr>\n",
       "  </tbody>\n",
       "</table>\n",
       "</div>"
      ],
      "text/plain": [
       "     week  Cluster  Full_Fare  Senior_Citizen___Disabled  \\\n",
       "0  1/1/11        1       1535                         76   \n",
       "1  1/1/11        2       2675                        129   \n",
       "2  1/1/11        3       2052                        161   \n",
       "3  1/1/11        4      11094                        361   \n",
       "4  1/1/11        5      14852                        579   \n",
       "\n",
       "   Seven_Day_ADA_Farecard_Access_System_Unlimited  \\\n",
       "0                                               3   \n",
       "1                                              32   \n",
       "2                                              37   \n",
       "3                                              40   \n",
       "4                                              72   \n",
       "\n",
       "   Thirty_Day_ADA_Farecard_Access_System_Unlimited  Joint_Rail_Road_Ticket  \\\n",
       "0                                               16                       0   \n",
       "1                                               43                       0   \n",
       "2                                               38                       0   \n",
       "3                                              105                       2   \n",
       "4                                              182                       3   \n",
       "\n",
       "   Seven_Day_Unlimited  Thirty_Day_Unlimited  \n",
       "0                  385                   593  \n",
       "1                  705                   814  \n",
       "2                  429                   625  \n",
       "3                 3873                  3146  \n",
       "4                 4296                  3867  "
      ]
     },
     "execution_count": 37,
     "metadata": {},
     "output_type": "execute_result"
    }
   ],
   "source": [
    "fc_wk.head()"
   ]
  },
  {
   "cell_type": "code",
   "execution_count": 38,
   "metadata": {},
   "outputs": [],
   "source": [
    "fc_col = fc_wk.merge(cols_wk, how='left', on=['week', 'Cluster']).dropna()"
   ]
  },
  {
   "cell_type": "code",
   "execution_count": 2,
   "metadata": {},
   "outputs": [],
   "source": [
    "fc_col = pd.read_csv('farecards_collisions.csv')"
   ]
  },
  {
   "cell_type": "code",
   "execution_count": 39,
   "metadata": {},
   "outputs": [],
   "source": [
    "font = {'weight' : 'normal',\n",
    "        'size'   : 12}\n",
    "\n",
    "matplotlib.rc('font', **font)"
   ]
  },
  {
   "cell_type": "markdown",
   "metadata": {},
   "source": [
    "At many of the stations, including this cluster of stations at Jamaica Center, we find an interesting trend: weekly collisions has no significant correlation with full fare ridership, but it does correlate with senior and disabled ridership."
   ]
  },
  {
   "cell_type": "code",
   "execution_count": 44,
   "metadata": {},
   "outputs": [
    {
     "name": "stdout",
     "output_type": "stream",
     "text": [
      "                            Station Line Name  \\\n",
      "Remote                                          \n",
      "R025    JAMAICA CENTER-PARSONS BLVD       EJZ   \n",
      "R536      AIRTRAIN JAMAICA CENTER 1         E   \n",
      "\n",
      "                    Processed Name from Farecard Database  \\\n",
      "Remote                                                      \n",
      "R025    JAMAICA CENTER PARSONS BLVD E_TRAIN J_TRAIN Z_...   \n",
      "R536                    AIRTRAIN JAMAICA CENTER 1 E_TRAIN   \n",
      "\n",
      "                    Processed Name from Stations Database  IsCorrect  \\\n",
      "Remote                                                                 \n",
      "R025    Jamaica Center   Parsons Archer E_TRAIN J_TRAI...          1   \n",
      "R536    Jamaica Center   Parsons Archer E_TRAIN J_TRAI...          1   \n",
      "\n",
      "         Latitude  Longitude  Cluster  \n",
      "Remote                                 \n",
      "R025    40.702147 -73.801109      135  \n",
      "R536    40.702147 -73.801109      135  \n"
     ]
    }
   ],
   "source": [
    "print(scorrect[clust == 135])"
   ]
  },
  {
   "cell_type": "code",
   "execution_count": 42,
   "metadata": {},
   "outputs": [
    {
     "name": "stdout",
     "output_type": "stream",
     "text": [
      "135\n"
     ]
    },
    {
     "name": "stderr",
     "output_type": "stream",
     "text": [
      "/anaconda3/lib/python3.7/site-packages/scipy/stats/stats.py:1713: FutureWarning: Using a non-tuple sequence for multidimensional indexing is deprecated; use `arr[tuple(seq)]` instead of `arr[seq]`. In the future this will be interpreted as an array index, `arr[np.array(seq)]`, which will result either in an error or a different result.\n",
      "  return np.add.reduce(sorted[indexer] * weights, axis=axis) / sumval\n"
     ]
    },
    {
     "data": {
      "image/png": "[encoded data removed]",
      "text/plain": [
       "<Figure size 864x432 with 2 Axes>"
      ]
     },
     "metadata": {
      "needs_background": "light"
     },
     "output_type": "display_data"
    }
   ],
   "source": [
    "# Zero, positive: [135, 118, 113, 139, 37, 279, 85, 5, 267, 173, 244, 87, 95, 211]\n",
    "# Negative, zero: [273, 155, 256, 147]\n",
    "# Negative, positive: [162, 58, 65, 153]\n",
    "i = 135 #np.random.randint(np.max(fc_col.Cluster))\n",
    "print(i)\n",
    "\n",
    "# Get trendlines\n",
    "\n",
    "cli = fc_col[fc_col.Cluster == i]\n",
    "f = plt.figure(figsize=(12,6))\n",
    "f.add_subplot(121)\n",
    "plt.ylabel('Full Fare Riders')\n",
    "plt.xlabel('Collisions')\n",
    "sns.regplot(cli['Collisions'], cli['Full_Fare'])\n",
    "f.add_subplot(122)\n",
    "plt.ylabel('Senior / Disabled Riders')\n",
    "plt.xlabel('Collisions')\n",
    "sns.regplot(cli['Collisions'], cli['Senior_Citizen___Disabled'])\n",
    "\n",
    "f.savefig('scatterplot.png')"
   ]
  }
 ],
 "metadata": {
  "kernelspec": {
   "display_name": "Python 3",
   "language": "python",
   "name": "python3"
  },
  "language_info": {
   "codemirror_mode": {
    "name": "ipython",
    "version": 3
   },
   "file_extension": ".py",
   "mimetype": "text/x-python",
   "name": "python",
   "nbconvert_exporter": "python",
   "pygments_lexer": "ipython3",
   "version": "3.7.1"
  }
 },
 "nbformat": 4,
 "nbformat_minor": 2
}
